{
 "cells": [
  {
   "cell_type": "markdown",
   "id": "4caafec3",
   "metadata": {},
   "source": [
    "# Probability 2: Loaded dice \n",
    "\n",
    "In this assignment you will be reinforcening your intuition about the concepts covered in the lectures by taking the example with the dice to the next level. \n",
    "\n",
    "This assignment will not evaluate your coding skills but rather your intuition and analytical skills. You can answer any of the exercise questions by any means necessary, you can take the analytical route and compute the exact values or you can alternatively create some code that simulates the situations at hand and provide approximate values (grading will have some tolerance to allow approximate solutions). It is up to you which route you want to take! \n",
    "\n",
    "Note that every exercise has a blank cell that you can use to make your calculations, this cell has just been placed there for you convenience but **will not be graded** so you can leave empty if you want to."
   ]
  },
  {
   "cell_type": "code",
   "execution_count": 1,
   "id": "da0fcf2f",
   "metadata": {},
   "outputs": [],
   "source": [
    "import numpy as np\n",
    "import pandas as pd\n",
    "import seaborn as sns\n",
    "import matplotlib.pyplot as plt\n",
    "import utils"
   ]
  },
  {
   "cell_type": "markdown",
   "id": "4546a127",
   "metadata": {},
   "source": [
    "## Some concept clarifications 🎲🎲🎲\n",
    "\n",
    "During this assignment you will be presented with various scenarios that involve dice. Usually dice can have different numbers of sides and can be either fair or loaded.\n",
    "\n",
    "- A fair dice has equal probability of landing on every side.\n",
    "- A loaded dice does not have equal probability of landing on every side. Usually one (or more) sides have a greater probability of showing up than the rest.\n",
    "\n",
    "Let's get started!"
   ]
  },
  {
   "cell_type": "markdown",
   "id": "c8f09f02",
   "metadata": {},
   "source": [
    "## Exercise 1:\n",
    "\n"
   ]
  },
  {
   "cell_type": "markdown",
   "id": "3510c610",
   "metadata": {},
   "source": [
    "Given a 6-sided fair dice (all of the sides have equal probability of showing up), compute the mean and variance for the probability distribution that models said dice. The next figure shows you a visual represenatation of said distribution:\n",
    "\n",
    "<img src=\"./images/fair_dice.png\" style=\"height: 300px;\"/>\n",
    "\n",
    "**Submission considerations:**\n",
    "- Submit your answers as floating point numbers with three digits after the decimal point\n",
    "- Example: To submit the value of 1/4 enter 0.250"
   ]
  },
  {
   "cell_type": "markdown",
   "id": "5ee9b479",
   "metadata": {},
   "source": [
    "Hints: \n",
    "- You can use [np.random.choice](https://numpy.org/doc/stable/reference/random/generated/numpy.random.choice.html) to simulate a fair dice.\n",
    "- You can use [np.mean](https://numpy.org/doc/stable/reference/generated/numpy.mean.html) and [np.var](https://numpy.org/doc/stable/reference/generated/numpy.var.html) to compute the mean and variance of a numpy array."
   ]
  },
  {
   "cell_type": "code",
   "execution_count": 2,
   "id": "df437e8e",
   "metadata": {},
   "outputs": [
    {
     "name": "stdout",
     "output_type": "stream",
     "text": [
      "Mean: 3.502\n",
      "Variance: 2.917\n"
     ]
    }
   ],
   "source": [
    "# You can use this cell for your calculations (not graded)\n",
    "\n",
    "# Simulating a fair dice with np.random.choice for a large number of rolls to get an accurate estimation\n",
    "rolls = np.random.choice([1, 2, 3, 4, 5, 6], size=1000000, replace=True)\n",
    "\n",
    "# Calculating the mean and variance\n",
    "mean = np.mean(rolls)\n",
    "variance = np.var(rolls)\n",
    "\n",
    "print(f\"Mean: {mean:.3f}\")\n",
    "print(f\"Variance: {variance:.3f}\")\n",
    "\n"
   ]
  },
  {
   "cell_type": "code",
   "execution_count": 3,
   "id": "db9477e7",
   "metadata": {},
   "outputs": [
    {
     "data": {
      "application/vnd.jupyter.widget-view+json": {
       "model_id": "7781ceece3554458a107f21c305fd05e",
       "version_major": 2,
       "version_minor": 0
      },
      "text/plain": [
       "FloatText(value=0.0, description='Mean:')"
      ]
     },
     "metadata": {},
     "output_type": "display_data"
    },
    {
     "data": {
      "application/vnd.jupyter.widget-view+json": {
       "model_id": "aa692402aa1940ecaca263011b52ac6c",
       "version_major": 2,
       "version_minor": 0
      },
      "text/plain": [
       "FloatText(value=0.0, description='Variance:')"
      ]
     },
     "metadata": {},
     "output_type": "display_data"
    },
    {
     "data": {
      "application/vnd.jupyter.widget-view+json": {
       "model_id": "df0c930d138c4ae99428781953b34ac9",
       "version_major": 2,
       "version_minor": 0
      },
      "text/plain": [
       "Button(button_style='success', description='Save your answer!', style=ButtonStyle())"
      ]
     },
     "metadata": {},
     "output_type": "display_data"
    },
    {
     "data": {
      "application/vnd.jupyter.widget-view+json": {
       "model_id": "129b20ca7fc34eb98196a095848ed5f9",
       "version_major": 2,
       "version_minor": 0
      },
      "text/plain": [
       "Output()"
      ]
     },
     "metadata": {},
     "output_type": "display_data"
    }
   ],
   "source": [
    "# Run this cell to submit your answer\n",
    "utils.exercise_1()"
   ]
  },
  {
   "cell_type": "markdown",
   "id": "d43dcbbd",
   "metadata": {},
   "source": [
    "## Exercise 2:\n",
    "\n",
    "Now suppose you are throwing the dice (same dice as in the previous exercise) two times and recording the sum of each throw. Which of the following `probability mass functions` will be the one you should get?\n",
    "\n",
    "<table><tr>\n",
    "<td> <img src=\"./images/hist_sum_6_side.png\" style=\"height: 300px;\"/> </td>\n",
    "<td> <img src=\"./images/hist_sum_5_side.png\" style=\"height: 300px;\"/> </td>\n",
    "<td> <img src=\"./images/hist_sum_6_uf.png\" style=\"height: 300px;\"/> </td>\n",
    "</tr></table>\n"
   ]
  },
  {
   "cell_type": "markdown",
   "id": "605c58c0",
   "metadata": {},
   "source": [
    "Hints: \n",
    "- You can use numpy arrays to hold the results of many throws.\n",
    "- You can sum to numpy arrays by using the `+` operator like this: `sum = first_throw + second_throw`\n",
    "- To simulate multiple throws of a dice you can use list comprehension or a for loop"
   ]
  },
  {
   "cell_type": "code",
   "execution_count": 4,
   "id": "e9a8b2ed",
   "metadata": {},
   "outputs": [
    {
     "name": "stdout",
     "output_type": "stream",
     "text": [
      "Sum of 2: Probability ~ 0.028\n",
      "Sum of 3: Probability ~ 0.056\n",
      "Sum of 4: Probability ~ 0.083\n",
      "Sum of 5: Probability ~ 0.111\n",
      "Sum of 6: Probability ~ 0.139\n",
      "Sum of 7: Probability ~ 0.166\n",
      "Sum of 8: Probability ~ 0.139\n",
      "Sum of 9: Probability ~ 0.111\n",
      "Sum of 10: Probability ~ 0.083\n",
      "Sum of 11: Probability ~ 0.056\n",
      "Sum of 12: Probability ~ 0.028\n"
     ]
    }
   ],
   "source": [
    "# You can use this cell for your calculations (not graded)\n",
    "\n",
    "# Simulating two dice throws\n",
    "# We're using 1,000,000 throws for a good approximation of the PMF\n",
    "first_throw = np.random.choice([1, 2, 3, 4, 5, 6], size=1000000, replace=True)\n",
    "second_throw = np.random.choice([1, 2, 3, 4, 5, 6], size=1000000, replace=True)\n",
    "\n",
    "# Calculating the sum of the two throws\n",
    "sum_of_throws = first_throw + second_throw\n",
    "\n",
    "# Calculating the probability mass function (PMF) for the sums\n",
    "# np.unique returns the sorted unique elements of an array and their counts\n",
    "values, counts = np.unique(sum_of_throws, return_counts=True)\n",
    "\n",
    "# Dividing the counts by the total number of throws to get the probabilities\n",
    "pmf = counts / len(sum_of_throws)\n",
    "\n",
    "# Pairing the sums with their corresponding probabilities\n",
    "sum_pmf_pairs = list(zip(values, pmf))\n",
    "\n",
    "# Displaying the sum-probability pairs\n",
    "for sum_value, probability in sum_pmf_pairs:\n",
    "    print(f\"Sum of {sum_value}: Probability ~ {probability:.3f}\")\n",
    "\n"
   ]
  },
  {
   "cell_type": "code",
   "execution_count": 5,
   "id": "d4d5dcf9",
   "metadata": {},
   "outputs": [
    {
     "data": {
      "application/vnd.jupyter.widget-view+json": {
       "model_id": "152162fcc66a4c86aebb014e143648a2",
       "version_major": 2,
       "version_minor": 0
      },
      "text/plain": [
       "ToggleButtons(description='Your answer:', options=('left', 'center', 'right'), value='left')"
      ]
     },
     "metadata": {},
     "output_type": "display_data"
    },
    {
     "data": {
      "application/vnd.jupyter.widget-view+json": {
       "model_id": "8d5353a82e514a7c92c9cd3791f118b9",
       "version_major": 2,
       "version_minor": 0
      },
      "text/plain": [
       "Button(button_style='success', description='Save your answer!', style=ButtonStyle())"
      ]
     },
     "metadata": {},
     "output_type": "display_data"
    },
    {
     "data": {
      "application/vnd.jupyter.widget-view+json": {
       "model_id": "ccc58256394146bf85fb22efcb5f6487",
       "version_major": 2,
       "version_minor": 0
      },
      "text/plain": [
       "Output()"
      ]
     },
     "metadata": {},
     "output_type": "display_data"
    }
   ],
   "source": [
    "# Run this cell to submit your answer\n",
    "utils.exercise_2()"
   ]
  },
  {
   "cell_type": "markdown",
   "id": "adfb889c",
   "metadata": {},
   "source": [
    "## Exercise 3:\n",
    "\n",
    "Given a fair 4-sided dice, you throw it two times and record the sum. The figure on the left shows the probabilities of the dice landing on each side and the right figure the histogram of the sum. Fill out the probabilities of each sum (notice that the distribution of the sum is symetrical so you only need to input 4 values in total):\n",
    "\n",
    "<img src=\"./images/4_side_hists.png\" style=\"height: 300px;\"/>\n",
    "\n",
    "**Submission considerations:**\n",
    "- Submit your answers as floating point numbers with three digits after the decimal point\n",
    "- Example: To submit the value of 1/4 enter 0.250"
   ]
  },
  {
   "cell_type": "code",
   "execution_count": 9,
   "id": "342ca685",
   "metadata": {},
   "outputs": [
    {
     "name": "stdout",
     "output_type": "stream",
     "text": [
      "Sum of 2: Probability ~ 0.062\n",
      "Sum of 3: Probability ~ 0.125\n",
      "Sum of 4: Probability ~ 0.188\n",
      "Sum of 5: Probability ~ 0.250\n",
      "Sum of 6: Probability ~ 0.188\n",
      "Sum of 7: Probability ~ 0.125\n",
      "Sum of 8: Probability ~ 0.062\n"
     ]
    }
   ],
   "source": [
    "# You can use this cell for your calculations (not graded)\n",
    "\n",
    "# Simulate two throws of a fair 4-sided dice\n",
    "first_throw_4_sided = np.random.choice([1, 2, 3, 4], size=1000000, replace=True)\n",
    "second_throw_4_sided = np.random.choice([1, 2, 3, 4], size=1000000, replace=True)\n",
    "\n",
    "# Calculate the sum of the two throws\n",
    "sum_of_throws_4_sided = first_throw_4_sided + second_throw_4_sided\n",
    "\n",
    "# Calculate the probability mass function (PMF) for the sums\n",
    "values_4_sided, counts_4_sided = np.unique(sum_of_throws_4_sided, return_counts=True)\n",
    "pmf_4_sided = counts_4_sided / len(sum_of_throws_4_sided)\n",
    "\n",
    "# Pairing the sums with their corresponding probabilities\n",
    "sum_pmf_pairs_4_sided = list(zip(values_4_sided, pmf_4_sided))\n",
    "\n",
    "# Since the distribution of the sum is symmetrical, we only need to take the first half of the probabilities\n",
    "midpoint_index_4_sided = len(sum_pmf_pairs_4_sided) // 2\n",
    "probabilities_4_sided = [pmf for _, pmf in sum_pmf_pairs_4_sided[:midpoint_index_4_sided + 1]]\n",
    "\n",
    "# Print the probabilities in ascending order of the sum\n",
    "for sum_value, probability in sum_pmf_pairs_4_sided[:midpoint_index_4_sided + 6]:\n",
    "    print(f\"Sum of {sum_value}: Probability ~ {probability:.3f}\")\n",
    "\n"
   ]
  },
  {
   "cell_type": "code",
   "execution_count": 7,
   "id": "e0a24beb",
   "metadata": {
    "scrolled": true
   },
   "outputs": [
    {
     "data": {
      "application/vnd.jupyter.widget-view+json": {
       "model_id": "622e11eae1964a1f92f8ff641297d49f",
       "version_major": 2,
       "version_minor": 0
      },
      "text/plain": [
       "FloatText(value=0.0, description='P for sum=2|8', style=DescriptionStyle(description_width='initial'))"
      ]
     },
     "metadata": {},
     "output_type": "display_data"
    },
    {
     "data": {
      "application/vnd.jupyter.widget-view+json": {
       "model_id": "7b5bdf47e6a84d099540f2226468db01",
       "version_major": 2,
       "version_minor": 0
      },
      "text/plain": [
       "FloatText(value=0.0, description='P for sum=3|7:', style=DescriptionStyle(description_width='initial'))"
      ]
     },
     "metadata": {},
     "output_type": "display_data"
    },
    {
     "data": {
      "application/vnd.jupyter.widget-view+json": {
       "model_id": "0b4e1d668ff44692a410d62f1fdfbc97",
       "version_major": 2,
       "version_minor": 0
      },
      "text/plain": [
       "FloatText(value=0.0, description='P for sum=4|6:', style=DescriptionStyle(description_width='initial'))"
      ]
     },
     "metadata": {},
     "output_type": "display_data"
    },
    {
     "data": {
      "application/vnd.jupyter.widget-view+json": {
       "model_id": "d6607a67e328435fa14895a56d7eda44",
       "version_major": 2,
       "version_minor": 0
      },
      "text/plain": [
       "FloatText(value=0.0, description='P for sum=5:', style=DescriptionStyle(description_width='initial'))"
      ]
     },
     "metadata": {},
     "output_type": "display_data"
    },
    {
     "data": {
      "application/vnd.jupyter.widget-view+json": {
       "model_id": "147ca95e9d064182b8bf6eec2bb2163d",
       "version_major": 2,
       "version_minor": 0
      },
      "text/plain": [
       "Button(button_style='success', description='Save your answer!', style=ButtonStyle())"
      ]
     },
     "metadata": {},
     "output_type": "display_data"
    },
    {
     "data": {
      "application/vnd.jupyter.widget-view+json": {
       "model_id": "1cbf90eb71814a9996e552143e895c1f",
       "version_major": 2,
       "version_minor": 0
      },
      "text/plain": [
       "Output()"
      ]
     },
     "metadata": {},
     "output_type": "display_data"
    }
   ],
   "source": [
    "# Run this cell to submit your answer\n",
    "utils.exercise_3()"
   ]
  },
  {
   "cell_type": "markdown",
   "id": "108837bd",
   "metadata": {},
   "source": [
    "## Exercise 4:\n",
    "\n",
    "Using the same scenario as in the previous exercise. Compute the mean and variance of the sum of the two throws  and the covariance between the first and the second throw:\n",
    "\n",
    "<img src=\"./images/4_sided_hist_no_prob.png\" style=\"height: 300px;\"/>\n",
    "\n",
    "\n",
    "Hints:\n",
    "- You can use [np.cov](https://numpy.org/doc/stable/reference/generated/numpy.cov.html) to compute the covariance of two numpy arrays (this may not be needed for this particular exercise)."
   ]
  },
  {
   "cell_type": "code",
   "execution_count": 10,
   "id": "f4eadc3c",
   "metadata": {},
   "outputs": [
    {
     "name": "stdout",
     "output_type": "stream",
     "text": [
      "Mean of the sum: 5.001\n",
      "Variance of the sum: 2.498\n",
      "Covariance between the first and second throw: -0.000\n"
     ]
    }
   ],
   "source": [
    "# You can use this cell for your calculations (not graded)\n",
    "\n",
    "# Assuming we have the results of the dice throws from the previous code\n",
    "# If not, we would need to simulate the throws again\n",
    "\n",
    "# Calculate the mean of the sum of the two throws\n",
    "mean_sum = np.mean(sum_of_throws_4_sided)\n",
    "\n",
    "# Calculate the variance of the sum of the two throws\n",
    "variance_sum = np.var(sum_of_throws_4_sided)\n",
    "\n",
    "# Calculate the covariance between the first and the second throw\n",
    "covariance_matrix = np.cov(first_throw_4_sided, second_throw_4_sided)\n",
    "# The covariance matrix is a 2x2 matrix, we are interested in the off-diagonal elements\n",
    "# which are the covariances between the two arrays\n",
    "covariance = covariance_matrix[0, 1]\n",
    "\n",
    "# Print the results\n",
    "print(f\"Mean of the sum: {mean_sum:.3f}\")\n",
    "print(f\"Variance of the sum: {variance_sum:.3f}\")\n",
    "print(f\"Covariance between the first and second throw: {covariance:.3f}\")\n",
    "\n"
   ]
  },
  {
   "cell_type": "code",
   "execution_count": 11,
   "id": "4e662b9b",
   "metadata": {},
   "outputs": [
    {
     "data": {
      "application/vnd.jupyter.widget-view+json": {
       "model_id": "bd159add194a4e0a8529586abd0ed065",
       "version_major": 2,
       "version_minor": 0
      },
      "text/plain": [
       "FloatText(value=0.0, description='Mean:')"
      ]
     },
     "metadata": {},
     "output_type": "display_data"
    },
    {
     "data": {
      "application/vnd.jupyter.widget-view+json": {
       "model_id": "d11ce870e1dd4bf88b5aac3d28dfae3f",
       "version_major": 2,
       "version_minor": 0
      },
      "text/plain": [
       "FloatText(value=0.0, description='Variance:')"
      ]
     },
     "metadata": {},
     "output_type": "display_data"
    },
    {
     "data": {
      "application/vnd.jupyter.widget-view+json": {
       "model_id": "d1e0847792af4eba92dc81648c1c7934",
       "version_major": 2,
       "version_minor": 0
      },
      "text/plain": [
       "FloatText(value=0.0, description='Covariance:')"
      ]
     },
     "metadata": {},
     "output_type": "display_data"
    },
    {
     "data": {
      "application/vnd.jupyter.widget-view+json": {
       "model_id": "f8715bf6325848b6b91d27aa45812a0f",
       "version_major": 2,
       "version_minor": 0
      },
      "text/plain": [
       "Button(button_style='success', description='Save your answer!', style=ButtonStyle())"
      ]
     },
     "metadata": {},
     "output_type": "display_data"
    },
    {
     "data": {
      "application/vnd.jupyter.widget-view+json": {
       "model_id": "cb24e0f08c3a49f687b62b3ed84e5ec6",
       "version_major": 2,
       "version_minor": 0
      },
      "text/plain": [
       "Output()"
      ]
     },
     "metadata": {},
     "output_type": "display_data"
    }
   ],
   "source": [
    "# Run this cell to submit your answer\n",
    "utils.exercise_4()"
   ]
  },
  {
   "cell_type": "markdown",
   "id": "714e099b",
   "metadata": {},
   "source": [
    "## Exercise 5:\n",
    "\n",
    "\n",
    "Now suppose you are have a loaded 4-sided dice (it is loaded so that it lands twice as often on side 2 compared to the other sides): \n",
    "\n",
    "\n",
    "<img src=\"./images/4_side_uf.png\" style=\"height: 300px;\"/>\n",
    "\n",
    "You are throwing it two times and recording the sum of each throw. Which of the following `probability mass functions` will be the one you should get?\n",
    "\n",
    "<table><tr>\n",
    "<td> <img src=\"./images/hist_sum_4_4l.png\" style=\"height: 300px;\"/> </td>\n",
    "<td> <img src=\"./images/hist_sum_4_3l.png\" style=\"height: 300px;\"/> </td>\n",
    "<td> <img src=\"./images/hist_sum_4_uf.png\" style=\"height: 300px;\"/> </td>\n",
    "</tr></table>"
   ]
  },
  {
   "cell_type": "markdown",
   "id": "ecb27c1b",
   "metadata": {},
   "source": [
    "Hints: \n",
    "- You can use the `p` parameter of [np.random.choice](https://numpy.org/doc/stable/reference/random/generated/numpy.random.choice.html) to simulate a loaded dice."
   ]
  },
  {
   "cell_type": "code",
   "execution_count": 12,
   "id": "a35573ec",
   "metadata": {},
   "outputs": [
    {
     "name": "stdout",
     "output_type": "stream",
     "text": [
      "Sum of 2: Probability ~ 0.040\n",
      "Sum of 3: Probability ~ 0.159\n",
      "Sum of 4: Probability ~ 0.240\n",
      "Sum of 5: Probability ~ 0.240\n",
      "Sum of 6: Probability ~ 0.200\n",
      "Sum of 7: Probability ~ 0.080\n",
      "Sum of 8: Probability ~ 0.040\n"
     ]
    }
   ],
   "source": [
    "# You can use this cell for your calculations (not graded)\n",
    "\n",
    "# Define the probabilities for each side of the loaded dice\n",
    "# Side 2 has a probability of 0.4, while the other sides have a probability of 0.2 each\n",
    "probabilities = [0.2, 0.4, 0.2, 0.2]\n",
    "\n",
    "# Simulate two throws of the loaded dice using the defined probabilities\n",
    "first_throw_loaded = np.random.choice([1, 2, 3, 4], size=1000000, p=probabilities, replace=True)\n",
    "second_throw_loaded = np.random.choice([1, 2, 3, 4], size=1000000, p=probabilities, replace=True)\n",
    "\n",
    "# Calculate the sum of the two throws\n",
    "sum_of_throws_loaded = first_throw_loaded + second_throw_loaded\n",
    "\n",
    "# Calculate the PMF for the sums by finding the unique sums and their frequencies\n",
    "values_loaded, counts_loaded = np.unique(sum_of_throws_loaded, return_counts=True)\n",
    "pmf_loaded = counts_loaded / len(sum_of_throws_loaded)\n",
    "\n",
    "# Pair the sums with their corresponding probabilities\n",
    "sum_pmf_pairs_loaded = list(zip(values_loaded, pmf_loaded))\n",
    "\n",
    "# Print out the sum-probability pairs\n",
    "for sum_value, probability in sum_pmf_pairs_loaded:\n",
    "    print(f\"Sum of {sum_value}: Probability ~ {probability:.3f}\")\n",
    "\n"
   ]
  },
  {
   "cell_type": "code",
   "execution_count": 13,
   "id": "3104e647",
   "metadata": {},
   "outputs": [
    {
     "data": {
      "application/vnd.jupyter.widget-view+json": {
       "model_id": "5779d2ee57d2413091a8c90543dca8f3",
       "version_major": 2,
       "version_minor": 0
      },
      "text/plain": [
       "ToggleButtons(description='Your answer:', options=('left', 'center', 'right'), value='left')"
      ]
     },
     "metadata": {},
     "output_type": "display_data"
    },
    {
     "data": {
      "application/vnd.jupyter.widget-view+json": {
       "model_id": "6fb59865cf354a6990338414b99e02ab",
       "version_major": 2,
       "version_minor": 0
      },
      "text/plain": [
       "Button(button_style='success', description='Save your answer!', style=ButtonStyle())"
      ]
     },
     "metadata": {},
     "output_type": "display_data"
    },
    {
     "data": {
      "application/vnd.jupyter.widget-view+json": {
       "model_id": "eb9862c5963a44d8a2f770d3f459031c",
       "version_major": 2,
       "version_minor": 0
      },
      "text/plain": [
       "Output()"
      ]
     },
     "metadata": {},
     "output_type": "display_data"
    }
   ],
   "source": [
    "# Run this cell to submit your answer\n",
    "utils.exercise_5()"
   ]
  },
  {
   "cell_type": "markdown",
   "id": "0d0f3429",
   "metadata": {},
   "source": [
    "## Exercise 6:\n",
    "\n",
    "You have a 6-sided dice that is loaded so that it lands twice as often on side 3 compared to the other sides:\n",
    "\n",
    "<img src=\"./images/loaded_6_side.png\" style=\"height: 300px;\"/>\n",
    "\n",
    "You record the sum of throwing it twice. What is the highest value (of the sum) that will yield a cumulative probability lower or equal to 0.5?\n",
    "\n",
    "<img src=\"./images/loaded_6_cdf.png\" style=\"height: 300px;\"/>\n",
    "\n",
    "Hints:\n",
    "- The probability of side 3 is equal to $\\frac{2}{7}$"
   ]
  },
  {
   "cell_type": "code",
   "execution_count": 14,
   "id": "10feaaa8",
   "metadata": {},
   "outputs": [
    {
     "name": "stdout",
     "output_type": "stream",
     "text": [
      "The highest sum with a cumulative probability less than or equal to 0.5 is 6.\n"
     ]
    }
   ],
   "source": [
    "# You can use this cell for your calculations (not graded)\n",
    "import numpy as np\n",
    "\n",
    "# Define the probabilities for each side of the loaded dice\n",
    "# Side 3 has a probability of 2/7, while the other sides have a probability of 1/7 each\n",
    "probabilities_6_sided = [1/7, 1/7, 2/7, 1/7, 1/7, 1/7]\n",
    "\n",
    "# Simulate two throws of the loaded dice using the defined probabilities\n",
    "first_throw_loaded_6_sided = np.random.choice([1, 2, 3, 4, 5, 6], size=1000000, p=probabilities_6_sided, replace=True)\n",
    "second_throw_loaded_6_sided = np.random.choice([1, 2, 3, 4, 5, 6], size=1000000, p=probabilities_6_sided, replace=True)\n",
    "\n",
    "# Calculate the sum of the two throws\n",
    "sum_of_throws_loaded_6_sided = first_throw_loaded_6_sided + second_throw_loaded_6_sided\n",
    "\n",
    "# Calculate the cumulative probability distribution function (CDF) for the sums\n",
    "values_loaded_6_sided, counts_loaded_6_sided = np.unique(sum_of_throws_loaded_6_sided, return_counts=True)\n",
    "cdf_loaded_6_sided = np.cumsum(counts_loaded_6_sided) / len(sum_of_throws_loaded_6_sided)\n",
    "\n",
    "# Find the highest sum value where the cumulative probability is less than or equal to 0.5\n",
    "highest_sum_with_cdf_le_05 = values_loaded_6_sided[np.where(cdf_loaded_6_sided <= 0.5)[0][-1]]\n",
    "\n",
    "print(f\"The highest sum with a cumulative probability less than or equal to 0.5 is {highest_sum_with_cdf_le_05}.\")\n",
    "\n"
   ]
  },
  {
   "cell_type": "code",
   "execution_count": 15,
   "id": "963e5763",
   "metadata": {},
   "outputs": [
    {
     "data": {
      "application/vnd.jupyter.widget-view+json": {
       "model_id": "627ac1010562469d9dcbb362f3827469",
       "version_major": 2,
       "version_minor": 0
      },
      "text/plain": [
       "IntSlider(value=2, continuous_update=False, description='Sum:', max=12, min=2)"
      ]
     },
     "metadata": {},
     "output_type": "display_data"
    },
    {
     "data": {
      "application/vnd.jupyter.widget-view+json": {
       "model_id": "f7da9d6212664540b5af4249751bbc29",
       "version_major": 2,
       "version_minor": 0
      },
      "text/plain": [
       "Button(button_style='success', description='Save your answer!', style=ButtonStyle())"
      ]
     },
     "metadata": {},
     "output_type": "display_data"
    },
    {
     "data": {
      "application/vnd.jupyter.widget-view+json": {
       "model_id": "9db09dbc5a22451dbefabab558e3612f",
       "version_major": 2,
       "version_minor": 0
      },
      "text/plain": [
       "Output()"
      ]
     },
     "metadata": {},
     "output_type": "display_data"
    }
   ],
   "source": [
    "# Run this cell to submit your answer\n",
    "utils.exercise_6()"
   ]
  },
  {
   "cell_type": "markdown",
   "id": "f6684426",
   "metadata": {},
   "source": [
    "## Exercise 7:\n",
    "\n",
    "Given a 6-sided fair dice you try a new game. You only throw the dice a second time if the result of the first throw is **lower** or equal to 3. Which of the following `probability mass functions` will be the one you should get given this new constraint?\n",
    "\n",
    "<table><tr>\n",
    "<td> <img src=\"./images/6_sided_cond_green.png\" style=\"height: 250px;\"/> </td>\n",
    "<td> <img src=\"./images/6_sided_cond_blue.png\" style=\"height: 250px;\"/> </td>\n",
    "<td> <img src=\"./images/6_sided_cond_red.png\" style=\"height: 250px;\"/> </td>\n",
    "<td> <img src=\"./images/6_sided_cond_brown.png\" style=\"height: 250px;\"/> </td>\n",
    "\n",
    "</tr></table>\n",
    "\n",
    "Hints:\n",
    "- You can simulate the second throws as a numpy array and then make the values that met a certain criteria equal to 0 by using [np.where](https://numpy.org/doc/stable/reference/generated/numpy.where.html)"
   ]
  },
  {
   "cell_type": "code",
   "execution_count": 16,
   "id": "9e64d178",
   "metadata": {},
   "outputs": [
    {
     "name": "stdout",
     "output_type": "stream",
     "text": [
      "Sum of 2: Probability ~ 0.028\n",
      "Sum of 3: Probability ~ 0.056\n",
      "Sum of 4: Probability ~ 0.250\n",
      "Sum of 5: Probability ~ 0.250\n",
      "Sum of 6: Probability ~ 0.250\n",
      "Sum of 7: Probability ~ 0.083\n",
      "Sum of 8: Probability ~ 0.056\n",
      "Sum of 9: Probability ~ 0.028\n"
     ]
    }
   ],
   "source": [
    "# You can use this cell for your calculations (not graded)\n",
    "\n",
    "# Simulate the first throw with a fair 6-sided dice\n",
    "first_throw_fair = np.random.choice([1, 2, 3, 4, 5, 6], size=1000000, replace=True)\n",
    "\n",
    "# Simulate a potential second throw with a fair 6-sided dice\n",
    "second_throw_fair = np.random.choice([1, 2, 3, 4, 5, 6], size=1000000, replace=True)\n",
    "\n",
    "# The second throw is only made if the first throw is less than or equal to 3\n",
    "# Using np.where to set the second throw to 0 when the first throw is greater than 3\n",
    "second_throw_fair = np.where(first_throw_fair > 3, 0, second_throw_fair)\n",
    "\n",
    "# Calculate the sum of the two throws\n",
    "sum_of_throws_new_game = first_throw_fair + second_throw_fair\n",
    "\n",
    "# Calculate the PMF for the sums by finding the unique sums and their frequencies\n",
    "values_new_game, counts_new_game = np.unique(sum_of_throws_new_game, return_counts=True)\n",
    "pmf_new_game = counts_new_game / len(sum_of_throws_new_game)\n",
    "\n",
    "# Pair the sums with their corresponding probabilities\n",
    "sum_pmf_pairs_new_game = list(zip(values_new_game, pmf_new_game))\n",
    "\n",
    "# Print out the sum-probability pairs\n",
    "for sum_value, probability in sum_pmf_pairs_new_game:\n",
    "    print(f\"Sum of {sum_value}: Probability ~ {probability:.3f}\")\n",
    "\n"
   ]
  },
  {
   "cell_type": "code",
   "execution_count": 17,
   "id": "82a4db40",
   "metadata": {},
   "outputs": [
    {
     "data": {
      "application/vnd.jupyter.widget-view+json": {
       "model_id": "2d3d5b4c1aa042fabc020e5112f9bbd2",
       "version_major": 2,
       "version_minor": 0
      },
      "text/plain": [
       "ToggleButtons(description='Your answer:', options=('left-most', 'left-center', 'right-center', 'right-most'), …"
      ]
     },
     "metadata": {},
     "output_type": "display_data"
    },
    {
     "data": {
      "application/vnd.jupyter.widget-view+json": {
       "model_id": "9dceef91151641e4b1cf900f79577b77",
       "version_major": 2,
       "version_minor": 0
      },
      "text/plain": [
       "Button(button_style='success', description='Save your answer!', style=ButtonStyle())"
      ]
     },
     "metadata": {},
     "output_type": "display_data"
    },
    {
     "data": {
      "application/vnd.jupyter.widget-view+json": {
       "model_id": "ae8c90f3ead7445fb4c3be415e51e61c",
       "version_major": 2,
       "version_minor": 0
      },
      "text/plain": [
       "Output()"
      ]
     },
     "metadata": {},
     "output_type": "display_data"
    }
   ],
   "source": [
    "# Run this cell to submit your answer\n",
    "utils.exercise_7()"
   ]
  },
  {
   "cell_type": "markdown",
   "id": "ba973eaf",
   "metadata": {},
   "source": [
    "## Exercise 8:\n",
    "\n",
    "Given the same scenario as in the previous exercise but with the twist that you only throw the dice a second time if the result of the first throw is **greater** or equal to 3. Which of the following `probability mass functions` will be the one you should get given this new constraint?\n",
    "\n",
    "<table><tr>\n",
    "<td> <img src=\"./images/6_sided_cond_green2.png\" style=\"height: 250px;\"/> </td>\n",
    "<td> <img src=\"./images/6_sided_cond_blue2.png\" style=\"height: 250px;\"/> </td>\n",
    "<td> <img src=\"./images/6_sided_cond_red2.png\" style=\"height: 250px;\"/> </td>\n",
    "<td> <img src=\"./images/6_sided_cond_brown2.png\" style=\"height: 250px;\"/> </td>\n",
    "\n",
    "</tr></table>\n"
   ]
  },
  {
   "cell_type": "code",
   "execution_count": 18,
   "id": "4d25300f",
   "metadata": {},
   "outputs": [
    {
     "data": {
      "image/png": "[encoded data removed]",
      "text/plain": [
       "<Figure size 640x480 with 1 Axes>"
      ]
     },
     "metadata": {},
     "output_type": "display_data"
    }
   ],
   "source": [
    "# You can use this cell for your calculations (not graded)\n",
    "\n",
    "# Simulate the first throw with a fair 6-sided dice\n",
    "first_throw_fair_2 = np.random.choice([1, 2, 3, 4, 5, 6], size=1000000, replace=True)\n",
    "\n",
    "# Simulate a potential second throw with a fair 6-sided dice\n",
    "second_throw_fair_2 = np.random.choice([1, 2, 3, 4, 5, 6], size=1000000, replace=True)\n",
    "\n",
    "# The second throw is only made if the first throw is greater than or equal to 3\n",
    "second_throw_fair_2 = np.where(first_throw_fair_2 < 3, 0, second_throw_fair_2)\n",
    "\n",
    "# Calculate the sum of the two throws\n",
    "sum_of_throws_new_game_2 = first_throw_fair_2 + second_throw_fair_2\n",
    "\n",
    "# Calculate the PMF for the sums by finding the unique sums and their frequencies\n",
    "values_new_game_2, counts_new_game_2 = np.unique(sum_of_throws_new_game_2, return_counts=True)\n",
    "pmf_new_game_2 = counts_new_game_2 / len(sum_of_throws_new_game_2)\n",
    "\n",
    "# Plotting the PMF\n",
    "plt.bar(values_new_game_2, pmf_new_game_2, color='navy')\n",
    "plt.xlabel('Sum of dice')\n",
    "plt.ylabel('Probability')\n",
    "plt.title('PMF of Sum of Throws in the Modified Dice Game')\n",
    "plt.xticks(values_new_game_2)  # Set x-ticks to be the sums\n",
    "plt.grid(axis='y', alpha=0.75)\n",
    "plt.show()\n",
    "\n"
   ]
  },
  {
   "cell_type": "code",
   "execution_count": 19,
   "id": "33bb9fd2",
   "metadata": {},
   "outputs": [
    {
     "data": {
      "application/vnd.jupyter.widget-view+json": {
       "model_id": "ddd8e4675e4d42928eb937a7a15c974f",
       "version_major": 2,
       "version_minor": 0
      },
      "text/plain": [
       "ToggleButtons(description='Your answer:', options=('left-most', 'left-center', 'right-center', 'right-most'), …"
      ]
     },
     "metadata": {},
     "output_type": "display_data"
    },
    {
     "data": {
      "application/vnd.jupyter.widget-view+json": {
       "model_id": "718c9670fa2640c3b05975133d64cd5b",
       "version_major": 2,
       "version_minor": 0
      },
      "text/plain": [
       "Button(button_style='success', description='Save your answer!', style=ButtonStyle())"
      ]
     },
     "metadata": {},
     "output_type": "display_data"
    },
    {
     "data": {
      "application/vnd.jupyter.widget-view+json": {
       "model_id": "5da67ba0d6e44f2f907f324b661bb5a1",
       "version_major": 2,
       "version_minor": 0
      },
      "text/plain": [
       "Output()"
      ]
     },
     "metadata": {},
     "output_type": "display_data"
    }
   ],
   "source": [
    "# Run this cell to submit your answer\n",
    "utils.exercise_8()"
   ]
  },
  {
   "cell_type": "markdown",
   "id": "017e9b22",
   "metadata": {},
   "source": [
    "## Exercise 9:\n",
    "\n",
    "Given a n-sided fair dice. You throw it twice and record the sum. How does increasing the number of sides `n` of the dice impact the mean and variance of the sum and the covariance of the joint distribution?"
   ]
  },
  {
   "cell_type": "code",
   "execution_count": 20,
   "id": "645a9b74",
   "metadata": {},
   "outputs": [
    {
     "name": "stdout",
     "output_type": "stream",
     "text": [
      "6-sided dice: Mean of sum = 7.0, Variance of sum = 5.833333333333333, Covariance = 0\n",
      "20-sided dice: Mean of sum = 21.0, Variance of sum = 66.5, Covariance = 0\n"
     ]
    }
   ],
   "source": [
    "# You can use this cell for your calculations (not graded)\n",
    "import numpy as np\n",
    "\n",
    "# Function to calculate the mean, variance, and covariance for an n-sided dice thrown twice\n",
    "def dice_statistics(n):\n",
    "    mean_single = (n + 1) / 2\n",
    "    variance_single = (n**2 - 1) / 12\n",
    "    \n",
    "    mean_sum = 2 * mean_single\n",
    "    variance_sum = 2 * variance_single\n",
    "    covariance = 0  # Independent throws\n",
    "    \n",
    "    return mean_sum, variance_sum, covariance\n",
    "\n",
    "# Example for a 6-sided dice\n",
    "mean_sum_6, variance_sum_6, covariance_6 = dice_statistics(6)\n",
    "print(f\"6-sided dice: Mean of sum = {mean_sum_6}, Variance of sum = {variance_sum_6}, Covariance = {covariance_6}\")\n",
    "\n",
    "# Example for an increased number of sides\n",
    "mean_sum_20, variance_sum_20, covariance_20 = dice_statistics(20)\n",
    "print(f\"20-sided dice: Mean of sum = {mean_sum_20}, Variance of sum = {variance_sum_20}, Covariance = {covariance_20}\")\n",
    "\n"
   ]
  },
  {
   "cell_type": "code",
   "execution_count": 21,
   "id": "907412da",
   "metadata": {},
   "outputs": [
    {
     "name": "stdout",
     "output_type": "stream",
     "text": [
      "As the number of sides in the die increases:\n"
     ]
    },
    {
     "data": {
      "application/vnd.jupyter.widget-view+json": {
       "model_id": "bc7aefecacd34a3ab5b141aef19d26df",
       "version_major": 2,
       "version_minor": 0
      },
      "text/plain": [
       "ToggleButtons(description='The mean of the sum:', options=('stays the same', 'increases', 'decreases'), value=…"
      ]
     },
     "metadata": {},
     "output_type": "display_data"
    },
    {
     "data": {
      "application/vnd.jupyter.widget-view+json": {
       "model_id": "ca215e63bb7b4a2c96c54031c356b13d",
       "version_major": 2,
       "version_minor": 0
      },
      "text/plain": [
       "ToggleButtons(description='The variance of the sum:', options=('stays the same', 'increases', 'decreases'), va…"
      ]
     },
     "metadata": {},
     "output_type": "display_data"
    },
    {
     "data": {
      "application/vnd.jupyter.widget-view+json": {
       "model_id": "399d5dcb98464292acabf7cc07c4d581",
       "version_major": 2,
       "version_minor": 0
      },
      "text/plain": [
       "ToggleButtons(description='The covariance of the joint distribution:', options=('stays the same', 'increases',…"
      ]
     },
     "metadata": {},
     "output_type": "display_data"
    },
    {
     "data": {
      "application/vnd.jupyter.widget-view+json": {
       "model_id": "67d1828eeccf46c6ae695ffb73479152",
       "version_major": 2,
       "version_minor": 0
      },
      "text/plain": [
       "Button(button_style='success', description='Save your answer!', style=ButtonStyle())"
      ]
     },
     "metadata": {},
     "output_type": "display_data"
    },
    {
     "data": {
      "application/vnd.jupyter.widget-view+json": {
       "model_id": "495628dd22b042438b218f1213929c81",
       "version_major": 2,
       "version_minor": 0
      },
      "text/plain": [
       "Output()"
      ]
     },
     "metadata": {},
     "output_type": "display_data"
    }
   ],
   "source": [
    "# Run this cell to submit your answer\n",
    "utils.exercise_9()"
   ]
  },
  {
   "cell_type": "markdown",
   "id": "fcf9b3ac",
   "metadata": {},
   "source": [
    "## Exercise 10:\n",
    "\n",
    "Given a 6-sided loaded dice. You throw it twice and record the sum. Which of the following statemets is true?"
   ]
  },
  {
   "cell_type": "code",
   "execution_count": null,
   "id": "008c5858",
   "metadata": {},
   "outputs": [],
   "source": [
    "# You can use this cell for your calculations (not graded)\n",
    "\n"
   ]
  },
  {
   "cell_type": "code",
   "execution_count": 22,
   "id": "99373567",
   "metadata": {},
   "outputs": [
    {
     "data": {
      "application/vnd.jupyter.widget-view+json": {
       "model_id": "70b6433e075048ae996b6de54d8d535e",
       "version_major": 2,
       "version_minor": 0
      },
      "text/plain": [
       "RadioButtons(layout=Layout(width='max-content'), options=('the mean and variance is the same regardless of whi…"
      ]
     },
     "metadata": {},
     "output_type": "display_data"
    },
    {
     "data": {
      "application/vnd.jupyter.widget-view+json": {
       "model_id": "9ad247ab6e8d49b58b8ffffaeaa92fa6",
       "version_major": 2,
       "version_minor": 0
      },
      "text/plain": [
       "Button(button_style='success', description='Save your answer!', style=ButtonStyle())"
      ]
     },
     "metadata": {},
     "output_type": "display_data"
    },
    {
     "data": {
      "application/vnd.jupyter.widget-view+json": {
       "model_id": "7674aab3a7c9425fb60f24bc4473f1d8",
       "version_major": 2,
       "version_minor": 0
      },
      "text/plain": [
       "Output()"
      ]
     },
     "metadata": {},
     "output_type": "display_data"
    }
   ],
   "source": [
    "# Run this cell to submit your answer\n",
    "utils.exercise_10()"
   ]
  },
  {
   "cell_type": "markdown",
   "id": "f8a1a8a3",
   "metadata": {},
   "source": [
    "## Exercise 11:\n",
    "\n",
    "Given a n-sided dice (could be fair or not). You throw it twice and record the sum (there is no dependance between the throws). If you are only given the histogram of the sums can you use it to know which are the probabilities of the dice landing on each side?\n",
    "\n",
    "In other words, if you are provided with only the histogram of the sums like this one:\n",
    "<td> <img src=\"./images/hist_sum_6_side.png\" style=\"height: 300px;\"/> </td>\n",
    "\n",
    "Could you use it to know the probabilities of the dice landing on each side? Which will be equivalent to finding this histogram:\n",
    "<img src=\"./images/fair_dice.png\" style=\"height: 300px;\"/>\n"
   ]
  },
  {
   "cell_type": "code",
   "execution_count": null,
   "id": "b42149cf",
   "metadata": {},
   "outputs": [],
   "source": [
    "# You can use this cell for your calculations (not graded)\n",
    "\n"
   ]
  },
  {
   "cell_type": "code",
   "execution_count": 24,
   "id": "33a2e4d9",
   "metadata": {},
   "outputs": [
    {
     "data": {
      "application/vnd.jupyter.widget-view+json": {
       "model_id": "e6985efda6f343bab31382d97b371876",
       "version_major": 2,
       "version_minor": 0
      },
      "text/plain": [
       "RadioButtons(layout=Layout(width='max-content'), options=('yes, but only if one of the sides is loaded', 'no, …"
      ]
     },
     "metadata": {},
     "output_type": "display_data"
    },
    {
     "data": {
      "application/vnd.jupyter.widget-view+json": {
       "model_id": "7563b761d2824ce18a16821041a06725",
       "version_major": 2,
       "version_minor": 0
      },
      "text/plain": [
       "Button(button_style='success', description='Save your answer!', style=ButtonStyle())"
      ]
     },
     "metadata": {},
     "output_type": "display_data"
    },
    {
     "data": {
      "application/vnd.jupyter.widget-view+json": {
       "model_id": "bf8ac862a5c041bd97e77e5796d3db96",
       "version_major": 2,
       "version_minor": 0
      },
      "text/plain": [
       "Output()"
      ]
     },
     "metadata": {},
     "output_type": "display_data"
    }
   ],
   "source": [
    "# Run this cell to submit your answer\n",
    "utils.exercise_11()"
   ]
  },
  {
   "cell_type": "markdown",
   "id": "1635ca7c",
   "metadata": {},
   "source": [
    "## Before Submitting Your Assignment\n",
    "\n",
    "Run the next cell to check that you have answered all of the exercises"
   ]
  },
  {
   "cell_type": "code",
   "execution_count": 26,
   "id": "c6822278",
   "metadata": {},
   "outputs": [
    {
     "name": "stdout",
     "output_type": "stream",
     "text": [
      "All answers saved, you can submit the assignment for grading!\n"
     ]
    }
   ],
   "source": [
    "utils.check_submissions()"
   ]
  },
  {
   "cell_type": "markdown",
   "id": "5286008f",
   "metadata": {},
   "source": [
    "**Congratulations on finishing this assignment!**\n",
    "\n",
    "During this assignment you tested your knowledge on probability distributions, descriptive statistics and visual interpretation of these concepts. You had the choice to compute everything analytically or create simulations to assist you get the right answer. You probably also realized that some exercises could be answered without any computations just by looking at certain hidden queues that the visualizations revealed.\n",
    "\n",
    "**Keep up the good work!**\n"
   ]
  }
 ],
 "metadata": {
  "kernelspec": {
   "display_name": "Python 3 (ipykernel)",
   "language": "python",
   "name": "python3"
  },
  "language_info": {
   "codemirror_mode": {
    "name": "ipython",
    "version": 3
   },
   "file_extension": ".py",
   "mimetype": "text/x-python",
   "name": "python",
   "nbconvert_exporter": "python",
   "pygments_lexer": "ipython3",
   "version": "3.10.11"
  }
 },
 "nbformat": 4,
 "nbformat_minor": 5
}
